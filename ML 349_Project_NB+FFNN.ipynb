{
  "cells": [
    {
      "cell_type": "code",
      "execution_count": null,
      "metadata": {
        "id": "tLHeU7j17G9A"
      },
      "outputs": [],
      "source": [
        "import re\n",
        "import time"
      ]
    },
    {
      "cell_type": "markdown",
      "metadata": {
        "id": "goMUTPqe4QWS"
      },
      "source": [
        "# Read data"
      ]
    },
    {
      "cell_type": "code",
      "execution_count": null,
      "metadata": {
        "colab": {
          "base_uri": "https://localhost:8080/"
        },
        "id": "jckrP1e24KhJ",
        "outputId": "68695a26-ff47-4756-b2a4-85fe5114e673"
      },
      "outputs": [
        {
          "name": "stdout",
          "output_type": "stream",
          "text": [
            "# of lines in train dot file 10780437\n",
            "# of lines in valid dot file 1120192\n",
            "# of lines in valid txt file 1120192\n",
            "# of lines in test dot file 1255018\n",
            "# of lines in test txt file 1255018\n"
          ]
        }
      ],
      "source": [
        "#Temp cell to get no. of lines of each dataset for preliminary analysis\n",
        "\n",
        "with open('wiki.train.dot', \"r\") as f:\n",
        "  texts_train = f.read()\n",
        "with open('wiki.valid.dot', \"r\") as f:\n",
        "  texts_valid_dot = f.read()\n",
        "with open('wiki.valid.txt', \"r\") as f:\n",
        "  texts_valid_txt = f.read() \n",
        "with open('wiki.test.dot', \"r\") as f:\n",
        "  texts_test_dot = f.read()\n",
        "with open('wiki.test.txt', \"r\") as f:\n",
        "  texts_test_txt = f.read()\n",
        "\n",
        "print('# of lines in train dot file', len(texts_train))\n",
        "print('# of lines in valid dot file', len(texts_valid_dot))\n",
        "print('# of lines in valid txt file', len(texts_valid_txt))\n",
        "print('# of lines in test dot file', len(texts_test_dot))\n",
        "print('# of lines in test txt file', len(texts_test_txt))\n"
      ]
    },
    {
      "cell_type": "code",
      "execution_count": null,
      "metadata": {
        "colab": {
          "base_uri": "https://localhost:8080/"
        },
        "id": "I8KCKYSGyiAN",
        "outputId": "47ad7dbb-f3b5-429f-944e-88eb9bcde170"
      },
      "outputs": [
        {
          "name": "stdout",
          "output_type": "stream",
          "text": [
            "# of lines in dot file 1255018\n",
            "# of lines in txt file 1255018\n",
            "examples of corrupted words: ['·inal', 'be·ng', '<unk·', 'he·o', 'becaus·', '·unk>', 'direc·ion', 'relea·e', 'furth·r', 'r·al']\n",
            "examples of their labels: ['final', 'being', '<unk>', 'hero', 'because', '<unk>', 'direction', 'release', 'further', 'real']\n"
          ]
        }
      ],
      "source": [
        "lines_dot = []\n",
        "lines_txt = []\n",
        "corrupted_words = []\n",
        "corrupted_labels = []    # the true label of the corrupted words\n",
        "\n",
        "with open('wiki.train.dot', \"r\") as f:\n",
        "  texts_train = f.read()\n",
        "with open('wiki.test.dot', \"r\") as f:\n",
        "  texts_dot = f.read()\n",
        "with open('wiki.test.txt', \"r\") as f:\n",
        "  texts_txt = f.read()\n",
        "\n",
        "print('# of lines in dot file', len(texts_dot))\n",
        "print('# of lines in txt file', len(texts_txt))\n",
        "\n",
        "\n",
        "# print('# of words in dot:', len(texts_dot.split(' ')))\n",
        "# print('# of words in txt:', len(texts_txt.split(' ')))\n",
        "\n",
        "raw_words_dot= texts_dot.split(' ')\n",
        "raw_words_txt= texts_txt.split(' ')\n",
        "\n",
        "for i, word in enumerate(raw_words_dot):\n",
        "    if chr(183) in word:\n",
        "        corrupted_words.append(word)\n",
        "        corrupted_labels.append(raw_words_txt[i])\n",
        "\n",
        "print('examples of corrupted words:', corrupted_words[-10:])\n",
        "print('examples of their labels:', corrupted_labels[-10:])"
      ]
    },
    {
      "cell_type": "markdown",
      "metadata": {
        "id": "v_MgOzm84W4-"
      },
      "source": [
        "# **Pre-processing**"
      ]
    },
    {
      "cell_type": "code",
      "execution_count": null,
      "metadata": {
        "id": "prmop9e935xb"
      },
      "outputs": [],
      "source": [
        "import string\n",
        "def extractTokens(texts):\n",
        "    tokens = []\n",
        "    # -- Remove punctuation and new lines\n",
        "    texts = re.sub(r'[^\\w\\s\\·]', '', texts)\n",
        "    texts = re.sub(r'[\\n]', ' ', texts)\n",
        "    # -- Split into words by space\n",
        "    words = texts.split(' ')\n",
        "    # -- Remove words shorter than 2 charaters\n",
        "    # for word in words:\n",
        "    #     if len(word) < 2 :\n",
        "    #         words.remove(word)\n",
        "    # print('# of words after remove:', len(words))\n",
        "\n",
        "    # -- Remove stop words ('unk' and 'usp')\n",
        "    # -- Remove capitalization\n",
        "    stop_words = ['unk', '·nk', 'u·k', 'un·', '·unk', 'unk·', '']\n",
        "    tokens += [x.lower() for x in words if x not in stop_words]\n",
        "    # if i == 3300: print('len of words at line', i, ':', len(words))\n",
        "    # for word in words:\n",
        "    #     if chr(183) in word:\n",
        "    #         print(word)\n",
        "\n",
        "    return tokens"
      ]
    },
    {
      "cell_type": "code",
      "execution_count": null,
      "metadata": {
        "colab": {
          "base_uri": "https://localhost:8080/"
        },
        "id": "PrGl4SUl1jN-",
        "outputId": "7dff5351-180b-4d49-feb1-26d62162ab18"
      },
      "outputs": [
        {
          "name": "stdout",
          "output_type": "stream",
          "text": [
            "# of words in dot file: 191126\n",
            "# of words in dot file: 191126\n",
            "examples of processed words in dot file: ['actor', 'he', 'had', 'a', 'guest', 'starring', 'role', 'on', 'the', 'television', 'series']\n"
          ]
        }
      ],
      "source": [
        "tokens_dot = extractTokens(texts_dot)\n",
        "tokens_txt = extractTokens(texts_txt)\n",
        "print('# of words in dot file:', len(tokens_dot))\n",
        "print('# of words in dot file:', len(tokens_txt))\n",
        "print('examples of processed words in dot file:', tokens_dot[9:20])"
      ]
    },
    {
      "cell_type": "markdown",
      "metadata": {
        "id": "0WhzYuFUPklR"
      },
      "source": [
        "## Extract corrupted words and their uncorrupted version"
      ]
    },
    {
      "cell_type": "code",
      "execution_count": null,
      "metadata": {
        "colab": {
          "base_uri": "https://localhost:8080/"
        },
        "id": "08mt77kS_hr0",
        "outputId": "55f70b75-c489-498a-ab02-d91534198bf7"
      },
      "outputs": [
        {
          "name": "stdout",
          "output_type": "stream",
          "text": [
            "len of corrupted: 1154\n",
            "len of uncorrupted: 189972\n",
            "['som·thing', 'sar·h', '·inal', 'be·ng', 'he·o', 'becaus·', 'direc·ion', 'relea·e', 'furth·r', 'r·al']\n",
            "['something', 'sarah', 'final', 'being', 'hero', 'because', 'direction', 'release', 'further', 'real']\n"
          ]
        }
      ],
      "source": [
        "corrupted_tokens_dot = []\n",
        "uncorrupted_tokens_dot = []\n",
        "label_tokens_txt = []\n",
        "\n",
        "for i, token in enumerate(tokens_dot):\n",
        "    if chr(183) in token:\n",
        "        corrupted_tokens_dot.append(token)\n",
        "        label_tokens_txt.append(tokens_txt[i])\n",
        "    else:\n",
        "        uncorrupted_tokens_dot.append(token)\n",
        "print('len of corrupted:', len(corrupted_tokens_dot))\n",
        "print('len of uncorrupted:', len(uncorrupted_tokens_dot))\n",
        "print(corrupted_tokens_dot[-10:])\n",
        "print(label_tokens_txt[-10:])"
      ]
    },
    {
      "cell_type": "code",
      "execution_count": null,
      "metadata": {
        "colab": {
          "base_uri": "https://localhost:8080/",
          "height": 38
        },
        "id": "oNpzCHdvQvuR",
        "outputId": "27713e15-f276-4310-9124-032084b3b2de"
      },
      "outputs": [
        {
          "data": {
            "application/vnd.google.colaboratory.intrinsic+json": {
              "type": "string"
            },
            "text/plain": [
              "'·'"
            ]
          },
          "execution_count": 14,
          "metadata": {},
          "output_type": "execute_result"
        }
      ],
      "source": [
        "chr(183)"
      ]
    },
    {
      "cell_type": "markdown",
      "metadata": {
        "id": "jUJSpYZSYNVI"
      },
      "source": [
        "## **BASIC NAIVE BAYES**"
      ]
    },
    {
      "cell_type": "code",
      "execution_count": null,
      "metadata": {
        "id": "cH6eDP83YZCh"
      },
      "outputs": [],
      "source": [
        "def basic_nb (curr, train_data):\n",
        "    # curr = corrupted_tokens_dot[0]\n",
        "    split = curr.split('·')\n",
        "    # -- If the black dot is at front or end\n",
        "    if len(split) == 1:\n",
        "        if curr[0] == '·':\n",
        "            pattern = '[^\\w][\\w]{}[^\\w]'.format(split)\n",
        "        elif curr[-1] == '·':\n",
        "            pattern = '[^\\w]{}[\\w][^\\w]'.format(split)\n",
        "    # -- If the black dot is in the middle\n",
        "    elif len(split) == 2:\n",
        "        pattern = '[^\\w]{0}[\\w]{1}[^\\w]'.format(split[0], split[1])\n",
        "\n",
        "    matches = re.findall(pattern, train_data)\n",
        "    trims = []\n",
        "    for match in matches:\n",
        "        trims.append(re.sub(r'[^\\w]', '', match))\n",
        "    # print('corrupted word:', curr)\n",
        "    # print('found matches:', trims)\n",
        "    uniques = list(set(trims))\n",
        "    pred = ''\n",
        "    max_count = float('-inf')\n",
        "    for unique in uniques:\n",
        "        if trims.count(unique) > max_count:\n",
        "            pred = unique\n",
        "            max_count = trims.count(unique)\n",
        "    \n",
        "    return pred"
      ]
    },
    {
      "cell_type": "markdown",
      "metadata": {
        "id": "sd1lXEMeUt6L"
      },
      "source": [
        "## Test"
      ]
    },
    {
      "cell_type": "code",
      "execution_count": null,
      "metadata": {
        "colab": {
          "base_uri": "https://localhost:8080/"
        },
        "id": "mxXjhEpoUl5X",
        "outputId": "e0a6a1c8-f0d0-423d-a25f-7cafdf85fc4e"
      },
      "outputs": [
        {
          "name": "stdout",
          "output_type": "stream",
          "text": [
            "accuracy: 84.32%\n",
            "time elapsed: 338.3108642101288s\n",
            "ratio of no match: 0.07712305025996534\n"
          ]
        }
      ],
      "source": [
        "start = time.time()\n",
        "correct_pred = 0.0\n",
        "no_match = 0.0\n",
        "for i, token in enumerate(corrupted_tokens_dot):\n",
        "    pred = basic_nb(token, texts_train)\n",
        "    if pred == label_tokens_txt[i]:\n",
        "        correct_pred += 1\n",
        "    if pred == '':\n",
        "        no_match += 1\n",
        "acc = correct_pred/len(corrupted_tokens_dot)\n",
        "end = time.time()\n",
        "print('accuracy: {:.2f}%'.format(acc*100))\n",
        "print('time elapsed: {}s'.format(end - start))\n",
        "print('ratio of no match:', no_match/len(corrupted_tokens_dot))"
      ]
    },
    {
      "cell_type": "code",
      "execution_count": null,
      "metadata": {
        "colab": {
          "base_uri": "https://localhost:8080/"
        },
        "id": "dwGp7Q7Ii6pj",
        "outputId": "7533ba35-451a-47d1-90df-cf5601b7b9f6"
      },
      "outputs": [
        {
          "name": "stdout",
          "output_type": "stream",
          "text": [
            "['usa', 'asa', 'bsa']\n",
            "[^\\w][\\w]ab[^\\w]\n"
          ]
        }
      ],
      "source": [
        "# -- Just try random stuff\n",
        "match = re.findall('[a-z]?sa', 'usa asa bsa')\n",
        "if match:\n",
        "    print(match)\n",
        "\n",
        "split = ' abc'.split()\n",
        "print('[^\\w][\\w]{0}{1}[^\\w]'.format('a', 'b'))"
      ]
    },
    {
      "cell_type": "markdown",
      "metadata": {
        "id": "RDqTa_oVo7qR"
      },
      "source": [
        "## **JAMPSELL (improved Norvig)**"
      ]
    },
    {
      "cell_type": "markdown",
      "metadata": {
        "id": "MHrWXMMQPaE3"
      },
      "source": [
        "Package: https://github.com/bakwc/JamSpell#python\n",
        "\n",
        "Install in CoLab: https://colab.research.google.com/drive/1aFk8-7nq3oAp402jjLGLpEb2Nzq210Eo#scrollTo=WQpKf25MYFtA"
      ]
    },
    {
      "cell_type": "code",
      "execution_count": null,
      "metadata": {
        "id": "SfiTxg6Ip2ft"
      },
      "outputs": [],
      "source": [
        "# !ruby -e \"$(curl -fsSL https://raw.githubusercontent.com/Homebrew/install/master/install)\""
      ]
    },
    {
      "cell_type": "code",
      "execution_count": null,
      "metadata": {
        "id": "BIRdRdb7pDRg"
      },
      "outputs": [],
      "source": [
        "# !brew install swig3\n",
        "# !pip install jamspell"
      ]
    },
    {
      "cell_type": "code",
      "execution_count": null,
      "metadata": {
        "colab": {
          "base_uri": "https://localhost:8080/"
        },
        "id": "6Rr26nBT5IL9",
        "outputId": "e023a435-fb3d-4d39-f4d9-ddafbc30cdc6"
      },
      "outputs": [
        {
          "name": "stdout",
          "output_type": "stream",
          "text": [
            "Reading package lists... Done\n",
            "Building dependency tree       \n",
            "Reading state information... Done\n",
            "The following additional packages will be installed:\n",
            "  swig3.0\n",
            "Suggested packages:\n",
            "  swig-doc swig-examples swig3.0-examples swig3.0-doc\n",
            "The following NEW packages will be installed:\n",
            "  swig swig3.0\n",
            "0 upgraded, 2 newly installed, 0 to remove and 37 not upgraded.\n",
            "Need to get 1,100 kB of archives.\n",
            "After this operation, 5,822 kB of additional disk space will be used.\n",
            "Get:1 http://archive.ubuntu.com/ubuntu bionic/universe amd64 swig3.0 amd64 3.0.12-1 [1,094 kB]\n",
            "Get:2 http://archive.ubuntu.com/ubuntu bionic/universe amd64 swig amd64 3.0.12-1 [6,460 B]\n",
            "Fetched 1,100 kB in 1s (768 kB/s)\n",
            "debconf: unable to initialize frontend: Dialog\n",
            "debconf: (No usable dialog-like program is installed, so the dialog based frontend cannot be used. at /usr/share/perl5/Debconf/FrontEnd/Dialog.pm line 76, <> line 2.)\n",
            "debconf: falling back to frontend: Readline\n",
            "debconf: unable to initialize frontend: Readline\n",
            "debconf: (This frontend requires a controlling tty.)\n",
            "debconf: falling back to frontend: Teletype\n",
            "dpkg-preconfigure: unable to re-open stdin: \n",
            "Selecting previously unselected package swig3.0.\n",
            "(Reading database ... 155222 files and directories currently installed.)\n",
            "Preparing to unpack .../swig3.0_3.0.12-1_amd64.deb ...\n",
            "Unpacking swig3.0 (3.0.12-1) ...\n",
            "Selecting previously unselected package swig.\n",
            "Preparing to unpack .../swig_3.0.12-1_amd64.deb ...\n",
            "Unpacking swig (3.0.12-1) ...\n",
            "Setting up swig3.0 (3.0.12-1) ...\n",
            "Setting up swig (3.0.12-1) ...\n",
            "Processing triggers for man-db (2.8.3-2ubuntu0.1) ...\n"
          ]
        }
      ],
      "source": [
        "!sudo apt-get install swig"
      ]
    },
    {
      "cell_type": "code",
      "execution_count": null,
      "metadata": {
        "colab": {
          "base_uri": "https://localhost:8080/"
        },
        "id": "a3-3v_105SlC",
        "outputId": "53f4bef0-1186-41c8-d161-221df403885b"
      },
      "outputs": [
        {
          "name": "stdout",
          "output_type": "stream",
          "text": [
            "Collecting jamspell\n",
            "  Downloading jamspell-0.0.12.tar.gz (174 kB)\n",
            "\u001b[?25l\r\u001b[K     |█▉                              | 10 kB 28.8 MB/s eta 0:00:01\r\u001b[K     |███▊                            | 20 kB 34.0 MB/s eta 0:00:01\r\u001b[K     |█████▋                          | 30 kB 22.7 MB/s eta 0:00:01\r\u001b[K     |███████▌                        | 40 kB 18.1 MB/s eta 0:00:01\r\u001b[K     |█████████▍                      | 51 kB 9.3 MB/s eta 0:00:01\r\u001b[K     |███████████▎                    | 61 kB 9.6 MB/s eta 0:00:01\r\u001b[K     |█████████████▏                  | 71 kB 8.2 MB/s eta 0:00:01\r\u001b[K     |███████████████                 | 81 kB 9.2 MB/s eta 0:00:01\r\u001b[K     |█████████████████               | 92 kB 7.9 MB/s eta 0:00:01\r\u001b[K     |██████████████████▉             | 102 kB 8.5 MB/s eta 0:00:01\r\u001b[K     |████████████████████▊           | 112 kB 8.5 MB/s eta 0:00:01\r\u001b[K     |██████████████████████▋         | 122 kB 8.5 MB/s eta 0:00:01\r\u001b[K     |████████████████████████▍       | 133 kB 8.5 MB/s eta 0:00:01\r\u001b[K     |██████████████████████████▎     | 143 kB 8.5 MB/s eta 0:00:01\r\u001b[K     |████████████████████████████▏   | 153 kB 8.5 MB/s eta 0:00:01\r\u001b[K     |██████████████████████████████  | 163 kB 8.5 MB/s eta 0:00:01\r\u001b[K     |████████████████████████████████| 174 kB 8.5 MB/s eta 0:00:01\r\u001b[K     |████████████████████████████████| 174 kB 8.5 MB/s \n",
            "\u001b[?25hBuilding wheels for collected packages: jamspell\n",
            "  Building wheel for jamspell (setup.py) ... \u001b[?25l\u001b[?25hdone\n",
            "  Created wheel for jamspell: filename=jamspell-0.0.12-cp37-cp37m-linux_x86_64.whl size=1347634 sha256=fadc396d0d00ed8b3574302c28265edbe92037bfe9648b32fe85c12025d1e510\n",
            "  Stored in directory: /root/.cache/pip/wheels/68/df/9c/9b335e69aa0f28e7f508ec0ebefadcc703f168beb52ae7ebe7\n",
            "Successfully built jamspell\n",
            "Installing collected packages: jamspell\n",
            "Successfully installed jamspell-0.0.12\n"
          ]
        }
      ],
      "source": [
        "!sudo pip install jamspell"
      ]
    },
    {
      "cell_type": "markdown",
      "metadata": {
        "id": "F_MhTuxQIKbf"
      },
      "source": [
        "## Train language model"
      ]
    },
    {
      "cell_type": "code",
      "execution_count": null,
      "metadata": {
        "colab": {
          "base_uri": "https://localhost:8080/"
        },
        "id": "lDWAQORMIMiY",
        "outputId": "fb65cb67-2c2e-487a-afd0-7e1ffd523b99"
      },
      "outputs": [
        {
          "name": "stdout",
          "output_type": "stream",
          "text": [
            "Reading package lists... Done\n",
            "Building dependency tree       \n",
            "Reading state information... Done\n",
            "cmake is already the newest version (3.10.2-1ubuntu2.18.04.2).\n",
            "0 upgraded, 0 newly installed, 0 to remove and 37 not upgraded.\n"
          ]
        }
      ],
      "source": [
        "!apt-get install cmake"
      ]
    },
    {
      "cell_type": "code",
      "execution_count": null,
      "metadata": {
        "id": "502NurQ9Ka0W"
      },
      "outputs": [],
      "source": [
        "!git clone https://github.com/bakwc/JamSpell.git\n",
        "!mkdir /content/JamSpell/build\n",
        "!cmake /content/JamSpell\n",
        "!make"
      ]
    },
    {
      "cell_type": "code",
      "execution_count": null,
      "metadata": {
        "id": "A-lFxFaKNOHt"
      },
      "outputs": [],
      "source": [
        "# !./main/jamspell train alphabet_en.txt wiki.valid.txt model_validset.bin"
      ]
    },
    {
      "cell_type": "markdown",
      "metadata": {
        "id": "F-27mX4IQ0uc"
      },
      "source": [
        "## Use pre-trained model"
      ]
    },
    {
      "cell_type": "code",
      "execution_count": null,
      "metadata": {
        "colab": {
          "base_uri": "https://localhost:8080/"
        },
        "id": "vs15C1MY5TwJ",
        "outputId": "efdfc525-76ad-4990-df5e-c415cad840b3"
      },
      "outputs": [
        {
          "name": "stdout",
          "output_type": "stream",
          "text": [
            "--2021-11-30 23:27:32--  https://github.com/bakwc/JamSpell-models/raw/master/en.tar.gz\n",
            "Resolving github.com (github.com)... 140.82.114.4\n",
            "Connecting to github.com (github.com)|140.82.114.4|:443... connected.\n",
            "HTTP request sent, awaiting response... 302 Found\n",
            "Location: https://raw.githubusercontent.com/bakwc/JamSpell-models/master/en.tar.gz [following]\n",
            "--2021-11-30 23:27:33--  https://raw.githubusercontent.com/bakwc/JamSpell-models/master/en.tar.gz\n",
            "Resolving raw.githubusercontent.com (raw.githubusercontent.com)... 185.199.108.133, 185.199.109.133, 185.199.111.133, ...\n",
            "Connecting to raw.githubusercontent.com (raw.githubusercontent.com)|185.199.108.133|:443... connected.\n",
            "HTTP request sent, awaiting response... 200 OK\n",
            "Length: 36611828 (35M) [application/octet-stream]\n",
            "Saving to: ‘en.tar.gz’\n",
            "\n",
            "en.tar.gz           100%[===================>]  34.92M   182MB/s    in 0.2s    \n",
            "\n",
            "2021-11-30 23:27:34 (182 MB/s) - ‘en.tar.gz’ saved [36611828/36611828]\n",
            "\n",
            "en.bin\n"
          ]
        }
      ],
      "source": [
        "!wget https://github.com/bakwc/JamSpell-models/raw/master/en.tar.gz\n",
        "!tar -xvf en.tar.gz"
      ]
    },
    {
      "cell_type": "markdown",
      "metadata": {
        "id": "JUdoXRyWM50W"
      },
      "source": [
        "## Evaluate"
      ]
    },
    {
      "cell_type": "code",
      "execution_count": null,
      "metadata": {
        "id": "L3KL-XTmM5US"
      },
      "outputs": [],
      "source": [
        "# !python ./JamSpell/evaluate/evaluate.py -a alphabet_en.txt -jsp model_validset.bin -mx 50000 wiki.test.dot"
      ]
    },
    {
      "cell_type": "markdown",
      "metadata": {
        "id": "LrhCKCEy5Zai"
      },
      "source": [
        "**Do restart Colab**"
      ]
    },
    {
      "cell_type": "code",
      "execution_count": null,
      "metadata": {
        "id": "piMtnPq_Ok_i"
      },
      "outputs": [],
      "source": [
        "import jamspell\n",
        "from importlib import reload\n",
        "reload(jamspell)\n",
        "corrector = jamspell.TSpellCorrector()\n",
        "# corrector.LoadLangModel('model_validset.bin')\n",
        "corrector.LoadLangModel('en.bin')\n",
        "assert corrector.LoadLangModel('en.bin')"
      ]
    },
    {
      "cell_type": "code",
      "execution_count": null,
      "metadata": {
        "id": "K9tHepf15h8q"
      },
      "outputs": [],
      "source": [
        "# corrector.FixFragment('I am the begt spell cherken!')\n",
        "# u'I am the best spell checker!'\n",
        "\n",
        "# corrector.GetCandidates(['i', 'am', 'the', 'begt', 'spell', 'cherken'], 3)\n",
        "# # (u'best', u'beat', u'belt', u'bet', u'bent', ... )\n",
        "\n",
        "# corrector.GetCandidates(['i', 'am', 'the', 'begt', 'spell', 'cherken'], 5)\n",
        "# # (u'checker', u'chicken', u'checked', u'wherein', u'coherent', ...)"
      ]
    },
    {
      "cell_type": "code",
      "execution_count": null,
      "metadata": {
        "colab": {
          "base_uri": "https://localhost:8080/"
        },
        "id": "qcM5T9hfehCA",
        "outputId": "31ed7af5-8409-47b8-8fa7-02b2db1bb247"
      },
      "outputs": [
        {
          "name": "stdout",
          "output_type": "stream",
          "text": [
            "robert robert is an english film television and theatre actor he had a guest starring role on the television series the bill in 2000 this was followed by a starring role in the play herons written by \n"
          ]
        }
      ],
      "source": [
        "# -- Replace black dot with letter 'q' to adjust for model\n",
        "tokens_dot_adj = []\n",
        "for token in tokens_dot:\n",
        "    if re.search('·', token):\n",
        "        tokens_dot_adj.append(re.sub(r'·', 'q', token))\n",
        "    else:\n",
        "        tokens_dot_adj.append(token)\n",
        "# -- Join the processed list of words back into a doc without punctuations\n",
        "text_dot_processed = ' '.join(tokens_dot_adj)\n",
        "# text_txt_processed = ' '.join(tokens_txt)\n",
        "\n",
        "print(text_dot_processed[:200])"
      ]
    },
    {
      "cell_type": "code",
      "execution_count": null,
      "metadata": {
        "id": "Y7F4GcczqT6B"
      },
      "outputs": [],
      "source": [
        "start = time.time()\n",
        "pred2 = corrector.FixFragment(text_dot_processed)"
      ]
    },
    {
      "cell_type": "code",
      "execution_count": null,
      "metadata": {
        "colab": {
          "base_uri": "https://localhost:8080/"
        },
        "id": "XWwN5_Hx3DJw",
        "outputId": "76c743d3-5026-4f3b-f920-5488013e9e94"
      },
      "outputs": [
        {
          "name": "stdout",
          "output_type": "stream",
          "text": [
            "accuracy: 91.33%\n",
            "time elapsed: 764.6844639778137s\n"
          ]
        }
      ],
      "source": [
        "mis_pred2 = 0.0\n",
        "remain_mis = []\n",
        "remain_mis_ori = []\n",
        "remain_mis_label = []\n",
        "# -- See how many dots left\n",
        "remain_dot = []\n",
        "pred2_token = pred2.split(' ')\n",
        "for i, token in enumerate(pred2_token):\n",
        "    if re.search('·', tokens_dot[i]):\n",
        "        # remain_dot.append(token)\n",
        "        # token = re.sub(r'·','', token)\n",
        "        if not token == tokens_txt[i]:\n",
        "            mis_pred2 += 1\n",
        "            remain_mis.append(token)\n",
        "            remain_mis_ori.append(tokens_dot[i])\n",
        "            remain_mis_label.append(tokens_txt[i])\n",
        "acc2 = 1-(mis_pred2/len(corrupted_tokens_dot))\n",
        "end = time.time()\n",
        "print('accuracy: {:.2f}%'.format(acc2*100))\n",
        "print('time elapsed: {}s'.format(end - start))\n",
        "# print('remaining words with dot:', remain_dot)\n",
        "# print('# of dot remaining:', len(remain_dot))\n",
        "# print('ratio of no match:', no_match/len(corrupted_tokens_dot))"
      ]
    },
    {
      "cell_type": "code",
      "execution_count": null,
      "metadata": {
        "colab": {
          "base_uri": "https://localhost:8080/"
        },
        "id": "xrymyZVPUrS2",
        "outputId": "af86ac52-e97a-42e5-fee9-826ad71975bf"
      },
      "outputs": [
        {
          "name": "stdout",
          "output_type": "stream",
          "text": [
            "['wallqnia', 'slip', 'fact', 'ship', '194a', '19s4', 'slowing', 'assault', 'year', 'the', 'help', 'line', 'will', 'qalestro', 'pounded', 'q876', '1a64', 'played', 'arab']\n",
            "['wall·nia', '·lip', 'fa·t', 'ship·', '194·', '19·4', '·lowing', 'assault·', '·ear', 'the·', 'hel·', 'line·', '·ill', '·alestro', 'pounde·', '·876', '1·64', 'pla·ed', '·rab']\n",
            "['wallonia', 'clip', 'fast', 'ships', '1943', '1944', 'blowing', 'assaults', 'near', 'them', 'held', 'lines', 'hill', 'palestro', 'pounder', '1876', '1964', 'placed', 'crab']\n",
            "# of mis predictions: 100\n"
          ]
        }
      ],
      "source": [
        "print(remain_mis[1:20])\n",
        "print(remain_mis_ori[1:20])\n",
        "print(remain_mis_label[1:20])\n",
        "print('# of mis predictions:', int(mis_pred2))"
      ]
    },
    {
      "cell_type": "markdown",
      "metadata": {
        "id": "pzWDpxI726w5"
      },
      "source": [
        "## **FFNN** "
      ]
    },
    {
      "cell_type": "code",
      "execution_count": 1,
      "metadata": {
        "colab": {
          "base_uri": "https://localhost:8080/"
        },
        "id": "dzXq-3wVtNY2",
        "outputId": "59d57bf4-3486-443b-f337-560acb73ea27"
      },
      "outputs": [
        {
          "output_type": "stream",
          "name": "stdout",
          "text": [
            "cpu\n"
          ]
        }
      ],
      "source": [
        "import re\n",
        "import datetime\n",
        "import numpy as np\n",
        "import pandas as pd\n",
        "import torch\n",
        "\n",
        "device = \"cuda\" if torch.cuda.is_available() else \"cpu\"\n",
        "print(device)"
      ]
    },
    {
      "cell_type": "code",
      "execution_count": 2,
      "metadata": {
        "id": "VddRFDqM3GzE"
      },
      "outputs": [],
      "source": [
        "with open('wiki.valid.txt', \"r\") as f:\n",
        "  texts_valid_txt = f.read() \n",
        "with open('wiki.test.dot', \"r\") as f:\n",
        "  texts_test_dot = f.read()\n",
        "with open('wiki.test.txt', \"r\") as f:\n",
        "  texts_test_txt = f.read()\n",
        "\n",
        "texts_valid_txt = re.sub(r'<unk>', '', texts_valid_txt)\n",
        "texts_valid_txt = re.sub(r'[\\n]', ' ', texts_valid_txt).upper()\n",
        "# Remove <unk> in the test.txt along with its correspondence in text.dot\n",
        "idx_unk = [(m.start(0), m.end(0)) for m in re.finditer('<unk>', texts_test_txt)]\n",
        "l = list(texts_test_txt)\n",
        "for idx in idx_unk[::-1]:\n",
        "    del(l[idx[0]:idx[1]])\n",
        "texts_test_txt = \"\".join(l)\n",
        "l = list(texts_test_dot)\n",
        "for idx in idx_unk[::-1]:\n",
        "    del(l[idx[0]:idx[1]])\n",
        "texts_test_dot = \"\".join(l)\n",
        "texts_test_dot = re.sub(r'[\\n]', ' ', texts_test_dot).upper()\n",
        "texts_test_txt = re.sub(r'[\\n]', ' ', texts_test_txt).upper()\n"
      ]
    },
    {
      "cell_type": "code",
      "execution_count": 3,
      "metadata": {
        "colab": {
          "base_uri": "https://localhost:8080/"
        },
        "id": "VHeEM2xmzpY6",
        "outputId": "a2a512c5-fcba-492f-8ff0-1dd4aa3258d2"
      },
      "outputs": [
        {
          "output_type": "stream",
          "name": "stdout",
          "text": [
            "[' SOM', ' SAR', 'THE ', 'N BE', 'E HE', 'CAUS', 'IREC', 'ELEA', 'URTH', 'SO R']\n",
            "['E', 'A', 'F', 'I', 'R', 'E', 'T', 'S', 'E', 'E']\n"
          ]
        }
      ],
      "source": [
        "# -- Extract windows for black dots from test set and their labels\n",
        "WINDOW = 4\n",
        "idx_dot = [m.start(0) for m in re.finditer(chr(183), texts_test_dot)]\n",
        "window_test = []\n",
        "label_test = []\n",
        "for idx in idx_dot:\n",
        "    window_test.append(texts_test_dot[(idx-WINDOW):idx])\n",
        "    label_test.append(texts_test_txt[idx])\n",
        "print(window_test[-10:])\n",
        "print(label_test[-10:])"
      ]
    },
    {
      "cell_type": "markdown",
      "source": [
        "### Create lookup tables"
      ],
      "metadata": {
        "id": "t8PgyjbJbgin"
      }
    },
    {
      "cell_type": "markdown",
      "metadata": {
        "id": "wx_gUuv0t55r"
      },
      "source": [
        "Reference: https://python-reference.readthedocs.io/en/latest/docs/str/ASCII.html"
      ]
    },
    {
      "cell_type": "code",
      "execution_count": 4,
      "metadata": {
        "id": "u1-OxY2_7jM0",
        "colab": {
          "base_uri": "https://localhost:8080/"
        },
        "outputId": "da9ec4d6-0183-40f3-c897-d24aff834506"
      },
      "outputs": [
        {
          "output_type": "stream",
          "name": "stdout",
          "text": [
            "len of ascii list: 36\n"
          ]
        }
      ],
      "source": [
        "asciis = [range(32,35), 39, range(44,47), range(58,60), 63, range(65,91)]\n",
        "ascii_ls = np.array([], dtype=int)\n",
        "for x in asciis:\n",
        "    ascii_ls = np.append(ascii_ls, x)\n",
        "print('len of ascii list:', len(ascii_ls))\n",
        "# for ascii in ascii_ls:\n",
        "#     if ascii != 40 and ascii != 41:\n",
        "#         print(ascii, ':', len(re.findall('\\\\'+chr(ascii), texts_valid_txt)))\n",
        "char_ls = []\n",
        "for x in ascii_ls:\n",
        "    char_ls.append(chr(x))\n",
        "lookup_embed = {k:v for k,v in zip(char_ls, range(len(ascii_ls)))}\n",
        "lookup_char = {k:v for k,v in zip(range(len(ascii_ls)), char_ls)}"
      ]
    },
    {
      "cell_type": "markdown",
      "source": [
        "### Model"
      ],
      "metadata": {
        "id": "ci5Gq64K7SO9"
      }
    },
    {
      "cell_type": "markdown",
      "metadata": {
        "id": "p8tCBArRDmrP"
      },
      "source": [
        "Reference: https://stackoverflow.com/questions/57029817/how-to-concatenate-embedding-layer-in-pytorch"
      ]
    },
    {
      "cell_type": "code",
      "execution_count": 5,
      "metadata": {
        "id": "aLrvX2CO4HwX"
      },
      "outputs": [],
      "source": [
        "class Net(torch.nn.Module):\n",
        "    def __init__(self, h_sizes, n_features, num_words, embed_dim, out_size, dropout=None):\n",
        "        super().__init__()\n",
        "\n",
        "        self.num_layers = len(h_sizes)  # hidden + input\n",
        "\n",
        "        self.embedding = torch.nn.Embedding(num_words, embed_dim)\n",
        "        self.hidden = torch.nn.ModuleList()\n",
        "        self.bnorm = torch.nn.ModuleList()\n",
        "        self.ReLU = torch.nn.ReLU()\n",
        "        if dropout is not None:\n",
        "            self.dropout = torch.nn.ModuleList()\n",
        "        else:\n",
        "            self.dropout = None\n",
        "\n",
        "        for k in range(self.num_layers):\n",
        "            if k == 0:\n",
        "                input_dim = n_features*embed_dim\n",
        "            else:\n",
        "                input_dim = h_sizes[k-1]\n",
        "                \n",
        "            self.hidden.append(torch.nn.Linear(input_dim, h_sizes[k]))\n",
        "            self.bnorm.append(torch.nn.BatchNorm1d(h_sizes[k]))\n",
        "            if self.dropout is not None:\n",
        "                self.dropout.append(torch.nn.Dropout(p=dropout))\n",
        "        # Output layer\n",
        "        self.out = torch.nn.Linear(h_sizes[-1], out_size)\n",
        "        # Cosine similarity layer\n",
        "        self.cos = torch.nn.CosineSimilarity()\n",
        "        # Softmax layer\n",
        "        self.softmax = torch.nn.Softmax(dim=1)\n",
        "\n",
        "        # print('# of layers:', self.num_layers)\n",
        "        # print('len of modulelist:', len(self.bnorm))\n",
        "\n",
        "    def forward(self, word_ix):\n",
        "\n",
        "        for l in range(self.num_layers):\n",
        "            if l == 0:\n",
        "                # Prepare input embeddings in batches (batch_size, n_features*embed_dim)\n",
        "                batch_size = word_ix.shape[0]\n",
        "                embeds = 0\n",
        "                for sample in range(batch_size):\n",
        "                    if sample == 0:\n",
        "                        embeds = self.embedding(word_ix[0]).view(1,-1)\n",
        "                    else:\n",
        "                        embeds = torch.vstack((embeds, self.embedding(word_ix[sample]).view(1,-1)))\n",
        "                # NOTE:\n",
        "                # embeds has a shape of (batch_size, 1, embed_dim)\n",
        "                # inorder to merge this change this with x, reshape this to\n",
        "                # (batch_size, embed_dim)\n",
        "                # embeds = embeds.view(embeds.shape[0], embeds.shape[2])\n",
        "\n",
        "                # print('shape of input:', embeds.view(1,-1).shape)\n",
        "                x = self.hidden[l](embeds)\n",
        "                # x = self.ReLU(x)\n",
        "                x = self.bnorm[l](x)\n",
        "                if self.dropout is not None:\n",
        "                    x = self.dropout[l](x)\n",
        "\n",
        "            else:\n",
        "                x = self.hidden[l](x)\n",
        "                # x = self.ReLU(x)\n",
        "                x = self.bnorm[l](x)\n",
        "                if self.dropout is not None:\n",
        "                    x = self.dropout[l](x)\n",
        "            x = self.ReLU(x)\n",
        "\n",
        "        out = self.out(x)\n",
        "\n",
        "        NUM_TARGETS = self.embedding.weight.shape[0]\n",
        "        # Dot product\n",
        "        all_idx = []\n",
        "        all_idx.extend(range(NUM_TARGETS))\n",
        "        all_idx = torch.LongTensor(all_idx).to(device)\n",
        "        cos_sim = torch.mm(out, torch.t(self.embedding(all_idx)))\n",
        "        # print('shape of cos_sim:', cos_sim.shape)\n",
        "        output = self.softmax(cos_sim)\n",
        "        # print('output layer shape:', output.shape)\n",
        "        return output"
      ]
    },
    {
      "cell_type": "code",
      "execution_count": 6,
      "metadata": {
        "colab": {
          "base_uri": "https://localhost:8080/",
          "height": 141
        },
        "id": "g1JyAooWtyxT",
        "outputId": "6219eca2-8500-480b-ef4d-fe5f1a1c3f1a"
      },
      "outputs": [
        {
          "output_type": "execute_result",
          "data": {
            "application/vnd.google.colaboratory.intrinsic+json": {
              "type": "string"
            },
            "text/plain": [
              "\"\\nNUM_TARGETS = len(ascii_ls)\\nEMBED_DIM = 10\\nWINDOW = 4\\nNUM_LAYERS = 4\\n# x = np.random.rand(5, NUM_FEATURES)\\ny = np.random.rand(1, NUM_TARGETS)\\n\\nword_ix = np.arange(WINDOW)\\nprint('word_ix:', word_ix)\\n\\ny_train = torch.from_numpy(y).float().to(device)\\n\\nh_sizes = [10, 5, 15, 10]\\n\\nnet = Net(h_sizes=h_sizes, n_features = WINDOW, num_words=NUM_TARGETS, embed_dim=EMBED_DIM, out_size=EMBED_DIM,dropout=None)     # define the network\\nprint(net)  # net architecture\\nnet = net.float()\\nnet.to(device)\\n\\noptimizer = torch.optim.Adam(net.parameters(), lr=0.0001, weight_decay=.01)\\nloss_func = torch.nn.CrossEntropyLoss()  # this is for regression mean squared loss\\n\\n# one training loop\\nprediction = net(word_ix)     # input x and predict based on x\\nprint('shape of prediction:', prediction.shape)\\n\\nprint('for loss func, out shape:', prediction.shape, 'y shape:', y_train.shape)\\nloss = loss_func(prediction, y_train)     # must be (1. nn output, 2. target)\\n\\noptimizer.zero_grad()   # clear gradients for next train\\nloss.backward()         # backpropagation, compute gradients\\noptimizer.step()        # apply gradients       \\n\""
            ]
          },
          "metadata": {},
          "execution_count": 6
        }
      ],
      "source": [
        "\"\"\"\n",
        "NUM_TARGETS = len(ascii_ls)\n",
        "EMBED_DIM = 10\n",
        "WINDOW = 4\n",
        "NUM_LAYERS = 4\n",
        "# x = np.random.rand(5, NUM_FEATURES)\n",
        "y = np.random.rand(1, NUM_TARGETS)\n",
        "\n",
        "word_ix = np.arange(WINDOW)\n",
        "print('word_ix:', word_ix)\n",
        "\n",
        "y_train = torch.from_numpy(y).float().to(device)\n",
        "\n",
        "h_sizes = [10, 5, 15, 10]\n",
        "\n",
        "net = Net(h_sizes=h_sizes, n_features = WINDOW, num_words=NUM_TARGETS, embed_dim=EMBED_DIM, out_size=EMBED_DIM,dropout=None)     # define the network\n",
        "print(net)  # net architecture\n",
        "net = net.float()\n",
        "net.to(device)\n",
        "\n",
        "optimizer = torch.optim.Adam(net.parameters(), lr=0.0001, weight_decay=.01)\n",
        "loss_func = torch.nn.CrossEntropyLoss()  # this is for regression mean squared loss\n",
        "\n",
        "# one training loop\n",
        "prediction = net(word_ix)     # input x and predict based on x\n",
        "print('shape of prediction:', prediction.shape)\n",
        "\n",
        "print('for loss func, out shape:', prediction.shape, 'y shape:', y_train.shape)\n",
        "loss = loss_func(prediction, y_train)     # must be (1. nn output, 2. target)\n",
        "\n",
        "optimizer.zero_grad()   # clear gradients for next train\n",
        "loss.backward()         # backpropagation, compute gradients\n",
        "optimizer.step()        # apply gradients       \n",
        "\"\"\""
      ]
    },
    {
      "cell_type": "code",
      "execution_count": 7,
      "metadata": {
        "id": "n6eCEywz_JSo"
      },
      "outputs": [],
      "source": [
        "def train(train_data, batch_size, window, model, loss_func, optimizer, reg_option=False):\n",
        "    model.train()\n",
        "    n_batches = int((len(train_data)-window) / batch_size)\n",
        "    train_loss = []\n",
        "    train_acc = []\n",
        "    correct = 0\n",
        "    now = datetime.datetime.now()\n",
        "    \n",
        "    for batch in range(n_batches):\n",
        "        # Initialize\n",
        "        word_ix = np.empty([0, window])\n",
        "        y_label = np.array([])\n",
        "        y = torch.zeros([0, len(char_ls)], dtype=torch.float32)\n",
        "        # word_ix includes a n_batches of text window; if not in ascii list, replace with random\n",
        "        for sample in range(batch_size):\n",
        "            word_ix_sample = []\n",
        "            for x in train_data[batch+sample:(batch+sample+window)]:\n",
        "                if x in lookup_embed.keys():\n",
        "                    word_ix_sample.append(lookup_embed[x])\n",
        "                else:\n",
        "                    word_ix_sample.append(np.random.randint(0,len(char_ls)-1))\n",
        "            word_ix = np.vstack((word_ix, word_ix_sample))\n",
        "            y_label = np.append(y_label, train_data[batch+sample+window])\n",
        "            word_iy_sample = lookup_embed[y_label[-1]] if y_label[-1] in lookup_embed.keys() else np.random.randint(0,len(char_ls)-1)\n",
        "            y_sample = torch.zeros([1, len(char_ls)], dtype=torch.float32)\n",
        "            y_sample[0, word_iy_sample] = 1\n",
        "            y = torch.vstack((y, y_sample))\n",
        "        #------ y is an embedding matrix with the label embedding as the only non-zero row\n",
        "        # y = torch.Tensor(len(ascii_ls), model.embedding(torch.LongTensor([0])).shape[1])\n",
        "        # y.zero_()\n",
        "        # y[word_iy] = model.embedding(torch.LongTensor([word_iy]).view(1,-1)).detach()\n",
        "        #------------------------------------------------------------------\n",
        "        # y = torch.zeros([1, len(ascii_ls)], dtype=torch.float32)\n",
        "        # y[0, word_iy] = 1\n",
        "        word_ix, y = torch.LongTensor(word_ix).to(device), y.to(device)\n",
        "        # print('shape of word_ix:', word_ix.shape)\n",
        "        # print('y:', y)\n",
        "        # print('shape of y:', y.shape)\n",
        "\n",
        "        \n",
        "        # make some predictions and get the error\n",
        "        out = model(word_ix)\n",
        "        # print('for loss func, out shape:', out.shape, 'y shape:', y.shape)\n",
        "        loss = loss_func(out, y)\n",
        "        if reg_option == 'L1':\n",
        "            l1_lambda = 0.001\n",
        "            l1_norm = sum(p.abs().sum() for p in model.parameters())\n",
        "            loss = loss + l1_lambda * l1_norm\n",
        "        elif reg_option == 'L2':\n",
        "            l2_lambda = 0.001\n",
        "            l2_norm = sum(p.pow(2.0).sum() for p in model.parameters())\n",
        "            loss = loss + l2_lambda * l2_norm\n",
        "\n",
        "        # backpropogation\n",
        "        optimizer.zero_grad()\n",
        "        loss.backward()\n",
        "        optimizer.step()\n",
        "\n",
        "        # accuracy\n",
        "        _, pred_idx = torch.max(out, 1)\n",
        "        # print('pred_idx shape:', pred_idx.shape)\n",
        "        pred = np.array([])\n",
        "        for idx in pred_idx:\n",
        "            pred = np.append(pred, lookup_char[int(idx)])\n",
        "        correct += sum(pred == y_label)\n",
        "        # print record every 100 letters\n",
        "        if batch % 1000 == 0 and batch != 0:\n",
        "        # if batch:\n",
        "            loss, current = loss.item()/batch_size, batch\n",
        "            iters = 1000\n",
        "            then = datetime.datetime.now()\n",
        "            iters /= (then - now).total_seconds()\n",
        "            print(f\"loss: {loss:>6f} [{current:>5d}/{n_batches}] ({iters:.1f} batch/sec)\")\n",
        "            train_loss.append(loss)\n",
        "\n",
        "            acc = float(correct) / ((batch+1)*batch_size) *100\n",
        "            print('train accuracy: %.2f%%' % acc)\n",
        "            # print('out shape:', out.shape)\n",
        "            # print('pred:', pred)\n",
        "            # print('predicted label:', pred, '; true label:', train_data[batch+window])\n",
        "            train_acc.append(acc)\n",
        "            now = then\n",
        "    return train_loss, train_acc\n"
      ]
    },
    {
      "cell_type": "code",
      "execution_count": 8,
      "metadata": {
        "id": "ebTmtz5P_Lng",
        "colab": {
          "base_uri": "https://localhost:8080/",
          "height": 55
        },
        "outputId": "8f42fbee-82d1-4b87-963d-d11bce6e6d55"
      },
      "outputs": [
        {
          "output_type": "execute_result",
          "data": {
            "application/vnd.google.colaboratory.intrinsic+json": {
              "type": "string"
            },
            "text/plain": [
              "\"\\ndef make_pred(out, true_embedding):\\n    min_cos = float('inf')\\n    pred = ''\\n    for i in ascii_ls:\\n        cos = torch.nn.CosineSimilarity(out[i], true_embedding)\\n        if cos < min_cos:\\n            pred = chr(i)\\n            min_cos = cos\\n    return pred\\n\""
            ]
          },
          "metadata": {},
          "execution_count": 8
        }
      ],
      "source": [
        "\"\"\"\n",
        "def make_pred(out, true_embedding):\n",
        "    min_cos = float('inf')\n",
        "    pred = ''\n",
        "    for i in ascii_ls:\n",
        "        cos = torch.nn.CosineSimilarity(out[i], true_embedding)\n",
        "        if cos < min_cos:\n",
        "            pred = chr(i)\n",
        "            min_cos = cos\n",
        "    return pred\n",
        "\"\"\""
      ]
    },
    {
      "cell_type": "code",
      "execution_count": 9,
      "metadata": {
        "id": "L_VraWnlSJGH"
      },
      "outputs": [],
      "source": [
        "def test(test_data, test_label, batch_size, window, model, loss_func):\n",
        "    model.eval()\n",
        "    n_batches = int(len(test_data) / batch_size)\n",
        "    test_loss = 0\n",
        "    correct = 0\n",
        "    num_examples = 0\n",
        "    actual = []\n",
        "    predicted = []\n",
        "    with torch.no_grad():\n",
        "        for batch in range(n_batches):\n",
        "            # Initialize\n",
        "            word_ix = np.empty([0, window])\n",
        "            y_label = np.array([])\n",
        "            y = torch.zeros([0, len(char_ls)], dtype=torch.float32)\n",
        "            # word_ix includes a n_batches of text window; if not in ascii list, replace with random\n",
        "            for sample in range(batch_size):\n",
        "                word_ix_sample = []\n",
        "                for x in test_data[batch+sample]:\n",
        "                    if x in lookup_embed.keys():\n",
        "                        word_ix_sample.append(lookup_embed[x])\n",
        "                    else:\n",
        "                        word_ix_sample.append(np.random.randint(0,len(char_ls)-1))\n",
        "                word_ix = np.vstack((word_ix, word_ix_sample))\n",
        "                y_label = np.append(y_label, test_label[batch+sample])\n",
        "                word_iy_sample = lookup_embed[y_label[-1]] if y_label[-1] in lookup_embed.keys() else np.random.randint(0,len(char_ls)-1)\n",
        "                y_sample = torch.zeros([1, len(char_ls)], dtype=torch.float32)\n",
        "                y_sample[0, word_iy_sample] = 1\n",
        "                y = torch.vstack((y, y_sample))\n",
        " \n",
        "            word_ix, y = torch.LongTensor(word_ix).to(device), y.to(device)\n",
        "            \n",
        "            # make some predictions and get the error\n",
        "            out = model(word_ix)\n",
        "            test_loss += loss_func(out, y).item()\n",
        "            _, pred_idx = torch.max(out, 1)\n",
        "            pred = np.array([])\n",
        "            for idx in pred_idx:\n",
        "                pred = np.append(pred, lookup_char[int(idx)])\n",
        "            correct += sum(pred == y_label)\n",
        " \n",
        "            actual.extend(y_label)\n",
        "            predicted.extend(pred)\n",
        "            # num_examples += batch_size\n",
        "    num_examples = n_batches*batch_size\n",
        "    test_loss /= num_examples\n",
        "    print('# of correct predictions:', correct)\n",
        "    # print('# of samples:', num_examples)\n",
        "    test_acc = float(correct) / num_examples * 100\n",
        "    print(f\"Avg Loss: {test_loss:>8f}\")\n",
        "    print('Avg Validation Accuracy: %.2f%%\\n' % test_acc)\n",
        "    return test_loss, test_acc, actual, predicted\n"
      ]
    },
    {
      "cell_type": "code",
      "execution_count": 11,
      "metadata": {
        "colab": {
          "base_uri": "https://localhost:8080/"
        },
        "id": "ZSob7t7-x79l",
        "outputId": "4c05688b-aa07-40a3-cc0a-878688d89ed1"
      },
      "outputs": [
        {
          "output_type": "stream",
          "name": "stdout",
          "text": [
            "Net(\n",
            "  (embedding): Embedding(36, 10)\n",
            "  (hidden): ModuleList(\n",
            "    (0): Linear(in_features=40, out_features=10, bias=True)\n",
            "    (1): Linear(in_features=10, out_features=5, bias=True)\n",
            "    (2): Linear(in_features=5, out_features=15, bias=True)\n",
            "    (3): Linear(in_features=15, out_features=10, bias=True)\n",
            "  )\n",
            "  (bnorm): ModuleList(\n",
            "    (0): BatchNorm1d(10, eps=1e-05, momentum=0.1, affine=True, track_running_stats=True)\n",
            "    (1): BatchNorm1d(5, eps=1e-05, momentum=0.1, affine=True, track_running_stats=True)\n",
            "    (2): BatchNorm1d(15, eps=1e-05, momentum=0.1, affine=True, track_running_stats=True)\n",
            "    (3): BatchNorm1d(10, eps=1e-05, momentum=0.1, affine=True, track_running_stats=True)\n",
            "  )\n",
            "  (ReLU): ReLU()\n",
            "  (out): Linear(in_features=10, out_features=10, bias=True)\n",
            "  (cos): CosineSimilarity()\n",
            "  (softmax): Softmax(dim=1)\n",
            ")\n",
            "Epoch 1\n",
            "------------------------------- \n",
            "\n",
            "loss: 0.013747 [ 1000/4146] (31.6 batch/sec)\n",
            "train accuracy: 35.39%\n",
            "loss: 0.013037 [ 2000/4146] (32.2 batch/sec)\n",
            "train accuracy: 39.43%\n",
            "loss: 0.013062 [ 3000/4146] (30.9 batch/sec)\n",
            "train accuracy: 41.78%\n",
            "loss: 0.012934 [ 4000/4146] (30.8 batch/sec)\n",
            "train accuracy: 41.55%\n",
            "# of correct predictions: 50\n",
            "Avg Loss: 0.013966\n",
            "Avg Validation Accuracy: 4.88%\n",
            "\n",
            "Epoch 2\n",
            "------------------------------- \n",
            "\n",
            "loss: 0.013087 [ 1000/4146] (31.1 batch/sec)\n",
            "train accuracy: 41.39%\n",
            "loss: 0.013016 [ 2000/4146] (31.6 batch/sec)\n",
            "train accuracy: 41.51%\n",
            "loss: 0.013046 [ 3000/4146] (30.8 batch/sec)\n",
            "train accuracy: 41.74%\n",
            "loss: 0.013034 [ 4000/4146] (31.4 batch/sec)\n",
            "train accuracy: 41.48%\n",
            "# of correct predictions: 100\n",
            "Avg Loss: 0.013816\n",
            "Avg Validation Accuracy: 9.77%\n",
            "\n",
            "Epoch 3\n",
            "------------------------------- \n",
            "\n",
            "loss: 0.012981 [ 1000/4146] (31.0 batch/sec)\n",
            "train accuracy: 40.15%\n",
            "loss: 0.012856 [ 2000/4146] (32.1 batch/sec)\n",
            "train accuracy: 41.23%\n",
            "loss: 0.013209 [ 3000/4146] (31.7 batch/sec)\n",
            "train accuracy: 40.74%\n",
            "loss: 0.012971 [ 4000/4146] (31.3 batch/sec)\n",
            "train accuracy: 39.84%\n",
            "# of correct predictions: 68\n",
            "Avg Loss: 0.013906\n",
            "Avg Validation Accuracy: 6.64%\n",
            "\n",
            "Epoch 4\n",
            "------------------------------- \n",
            "\n",
            "loss: 0.012959 [ 1000/4146] (31.2 batch/sec)\n",
            "train accuracy: 36.21%\n",
            "loss: 0.012919 [ 2000/4146] (32.5 batch/sec)\n",
            "train accuracy: 37.54%\n",
            "loss: 0.013097 [ 3000/4146] (31.5 batch/sec)\n",
            "train accuracy: 38.52%\n",
            "loss: 0.013083 [ 4000/4146] (31.2 batch/sec)\n",
            "train accuracy: 38.45%\n",
            "# of correct predictions: 70\n",
            "Avg Loss: 0.013917\n",
            "Avg Validation Accuracy: 6.84%\n",
            "\n",
            "Epoch 5\n",
            "------------------------------- \n",
            "\n",
            "loss: 0.013029 [ 1000/4146] (31.1 batch/sec)\n",
            "train accuracy: 38.50%\n",
            "loss: 0.013123 [ 2000/4146] (32.0 batch/sec)\n",
            "train accuracy: 38.30%\n",
            "loss: 0.012983 [ 3000/4146] (32.0 batch/sec)\n",
            "train accuracy: 39.15%\n",
            "loss: 0.013267 [ 4000/4146] (31.9 batch/sec)\n",
            "train accuracy: 38.61%\n",
            "# of correct predictions: 52\n",
            "Avg Loss: 0.013989\n",
            "Avg Validation Accuracy: 5.08%\n",
            "\n",
            "Epoch 6\n",
            "------------------------------- \n",
            "\n",
            "loss: 0.012810 [ 1000/4146] (31.3 batch/sec)\n",
            "train accuracy: 37.99%\n",
            "loss: 0.012874 [ 2000/4146] (31.6 batch/sec)\n",
            "train accuracy: 39.67%\n",
            "loss: 0.012842 [ 3000/4146] (30.8 batch/sec)\n",
            "train accuracy: 40.07%\n",
            "loss: 0.013147 [ 4000/4146] (30.9 batch/sec)\n",
            "train accuracy: 39.62%\n",
            "# of correct predictions: 70\n",
            "Avg Loss: 0.013946\n",
            "Avg Validation Accuracy: 6.84%\n",
            "\n",
            "Epoch 7\n",
            "------------------------------- \n",
            "\n",
            "loss: 0.013078 [ 1000/4146] (30.6 batch/sec)\n",
            "train accuracy: 36.33%\n",
            "loss: 0.012945 [ 2000/4146] (30.9 batch/sec)\n",
            "train accuracy: 38.22%\n",
            "loss: 0.012875 [ 3000/4146] (31.4 batch/sec)\n",
            "train accuracy: 39.27%\n",
            "loss: 0.012997 [ 4000/4146] (31.6 batch/sec)\n",
            "train accuracy: 39.14%\n",
            "# of correct predictions: 59\n",
            "Avg Loss: 0.013937\n",
            "Avg Validation Accuracy: 5.76%\n",
            "\n",
            "Epoch 8\n",
            "------------------------------- \n",
            "\n",
            "loss: 0.013028 [ 1000/4146] (31.3 batch/sec)\n",
            "train accuracy: 39.20%\n",
            "loss: 0.012922 [ 2000/4146] (31.8 batch/sec)\n",
            "train accuracy: 38.70%\n",
            "loss: 0.012866 [ 3000/4146] (31.9 batch/sec)\n",
            "train accuracy: 39.43%\n",
            "loss: 0.013022 [ 4000/4146] (32.0 batch/sec)\n",
            "train accuracy: 39.24%\n",
            "# of correct predictions: 89\n",
            "Avg Loss: 0.013828\n",
            "Avg Validation Accuracy: 8.69%\n",
            "\n",
            "Epoch 9\n",
            "------------------------------- \n",
            "\n",
            "loss: 0.012948 [ 1000/4146] (30.6 batch/sec)\n",
            "train accuracy: 37.19%\n",
            "loss: 0.012880 [ 2000/4146] (31.5 batch/sec)\n",
            "train accuracy: 38.77%\n",
            "loss: 0.012853 [ 3000/4146] (31.6 batch/sec)\n",
            "train accuracy: 38.81%\n",
            "loss: 0.013064 [ 4000/4146] (30.8 batch/sec)\n",
            "train accuracy: 38.89%\n",
            "# of correct predictions: 88\n",
            "Avg Loss: 0.013882\n",
            "Avg Validation Accuracy: 8.59%\n",
            "\n",
            "Epoch 10\n",
            "------------------------------- \n",
            "\n",
            "loss: 0.013078 [ 1000/4146] (30.2 batch/sec)\n",
            "train accuracy: 36.14%\n",
            "loss: 0.012970 [ 2000/4146] (31.3 batch/sec)\n",
            "train accuracy: 37.54%\n",
            "loss: 0.013019 [ 3000/4146] (30.7 batch/sec)\n",
            "train accuracy: 38.46%\n",
            "loss: 0.013099 [ 4000/4146] (30.7 batch/sec)\n",
            "train accuracy: 37.75%\n",
            "# of correct predictions: 76\n",
            "Avg Loss: 0.013899\n",
            "Avg Validation Accuracy: 7.42%\n",
            "\n",
            "Epoch 11\n",
            "------------------------------- \n",
            "\n",
            "loss: 0.012945 [ 1000/4146] (31.1 batch/sec)\n",
            "train accuracy: 35.54%\n",
            "loss: 0.012988 [ 2000/4146] (31.4 batch/sec)\n",
            "train accuracy: 35.26%\n",
            "loss: 0.013024 [ 3000/4146] (31.3 batch/sec)\n",
            "train accuracy: 35.81%\n",
            "loss: 0.013263 [ 4000/4146] (31.3 batch/sec)\n",
            "train accuracy: 35.63%\n",
            "# of correct predictions: 61\n",
            "Avg Loss: 0.013931\n",
            "Avg Validation Accuracy: 5.96%\n",
            "\n",
            "Epoch 12\n",
            "------------------------------- \n",
            "\n",
            "loss: 0.012968 [ 1000/4146] (30.7 batch/sec)\n",
            "train accuracy: 36.00%\n",
            "loss: 0.012839 [ 2000/4146] (31.6 batch/sec)\n",
            "train accuracy: 36.99%\n",
            "loss: 0.013004 [ 3000/4146] (30.8 batch/sec)\n",
            "train accuracy: 37.33%\n",
            "loss: 0.013324 [ 4000/4146] (31.5 batch/sec)\n",
            "train accuracy: 36.30%\n",
            "# of correct predictions: 61\n",
            "Avg Loss: 0.013922\n",
            "Avg Validation Accuracy: 5.96%\n",
            "\n",
            "Epoch 13\n",
            "------------------------------- \n",
            "\n",
            "loss: 0.013113 [ 1000/4146] (31.3 batch/sec)\n",
            "train accuracy: 33.23%\n",
            "loss: 0.013062 [ 2000/4146] (31.8 batch/sec)\n",
            "train accuracy: 33.76%\n",
            "loss: 0.012946 [ 3000/4146] (31.8 batch/sec)\n",
            "train accuracy: 34.08%\n",
            "loss: 0.013111 [ 4000/4146] (31.1 batch/sec)\n",
            "train accuracy: 34.45%\n",
            "# of correct predictions: 56\n",
            "Avg Loss: 0.013983\n",
            "Avg Validation Accuracy: 5.47%\n",
            "\n",
            "Epoch 14\n",
            "------------------------------- \n",
            "\n",
            "loss: 0.013071 [ 1000/4146] (30.9 batch/sec)\n",
            "train accuracy: 32.91%\n",
            "loss: 0.013139 [ 2000/4146] (31.3 batch/sec)\n",
            "train accuracy: 33.05%\n",
            "loss: 0.012953 [ 3000/4146] (31.0 batch/sec)\n",
            "train accuracy: 33.35%\n",
            "loss: 0.013354 [ 4000/4146] (31.3 batch/sec)\n",
            "train accuracy: 33.33%\n",
            "# of correct predictions: 63\n",
            "Avg Loss: 0.013946\n",
            "Avg Validation Accuracy: 6.15%\n",
            "\n",
            "Epoch 15\n",
            "------------------------------- \n",
            "\n",
            "loss: 0.013051 [ 1000/4146] (30.1 batch/sec)\n",
            "train accuracy: 33.16%\n",
            "loss: 0.013138 [ 2000/4146] (30.4 batch/sec)\n",
            "train accuracy: 33.40%\n",
            "loss: 0.012841 [ 3000/4146] (30.3 batch/sec)\n",
            "train accuracy: 34.47%\n",
            "loss: 0.013173 [ 4000/4146] (31.6 batch/sec)\n",
            "train accuracy: 34.77%\n",
            "# of correct predictions: 48\n",
            "Avg Loss: 0.013986\n",
            "Avg Validation Accuracy: 4.69%\n",
            "\n",
            "Epoch 16\n",
            "------------------------------- \n",
            "\n",
            "loss: 0.013117 [ 1000/4146] (30.6 batch/sec)\n",
            "train accuracy: 32.54%\n",
            "loss: 0.013047 [ 2000/4146] (31.6 batch/sec)\n",
            "train accuracy: 33.21%\n",
            "loss: 0.012862 [ 3000/4146] (31.7 batch/sec)\n",
            "train accuracy: 34.89%\n",
            "loss: 0.013074 [ 4000/4146] (31.3 batch/sec)\n",
            "train accuracy: 35.42%\n",
            "# of correct predictions: 59\n",
            "Avg Loss: 0.013922\n",
            "Avg Validation Accuracy: 5.76%\n",
            "\n",
            "Epoch 17\n",
            "------------------------------- \n",
            "\n",
            "loss: 0.012996 [ 1000/4146] (31.2 batch/sec)\n",
            "train accuracy: 35.22%\n",
            "loss: 0.012963 [ 2000/4146] (31.9 batch/sec)\n",
            "train accuracy: 36.53%\n",
            "loss: 0.012879 [ 3000/4146] (31.9 batch/sec)\n",
            "train accuracy: 36.58%\n",
            "loss: 0.013070 [ 4000/4146] (31.7 batch/sec)\n",
            "train accuracy: 36.51%\n",
            "# of correct predictions: 135\n",
            "Avg Loss: 0.013699\n",
            "Avg Validation Accuracy: 13.18%\n",
            "\n",
            "Epoch 18\n",
            "------------------------------- \n",
            "\n",
            "loss: 0.013077 [ 1000/4146] (31.5 batch/sec)\n",
            "train accuracy: 34.25%\n",
            "loss: 0.013124 [ 2000/4146] (30.7 batch/sec)\n",
            "train accuracy: 34.85%\n",
            "loss: 0.012980 [ 3000/4146] (31.6 batch/sec)\n",
            "train accuracy: 35.74%\n",
            "loss: 0.013122 [ 4000/4146] (31.6 batch/sec)\n",
            "train accuracy: 35.35%\n",
            "# of correct predictions: 82\n",
            "Avg Loss: 0.013826\n",
            "Avg Validation Accuracy: 8.01%\n",
            "\n",
            "Epoch 19\n",
            "------------------------------- \n",
            "\n",
            "loss: 0.013233 [ 1000/4146] (31.1 batch/sec)\n",
            "train accuracy: 31.26%\n",
            "loss: 0.013208 [ 2000/4146] (30.8 batch/sec)\n",
            "train accuracy: 31.25%\n",
            "loss: 0.012925 [ 3000/4146] (30.9 batch/sec)\n",
            "train accuracy: 32.77%\n",
            "loss: 0.013140 [ 4000/4146] (30.6 batch/sec)\n",
            "train accuracy: 33.16%\n",
            "# of correct predictions: 68\n",
            "Avg Loss: 0.013910\n",
            "Avg Validation Accuracy: 6.64%\n",
            "\n",
            "Epoch 20\n",
            "------------------------------- \n",
            "\n",
            "loss: 0.013146 [ 1000/4146] (30.0 batch/sec)\n",
            "train accuracy: 31.75%\n",
            "loss: 0.012969 [ 2000/4146] (30.9 batch/sec)\n",
            "train accuracy: 33.30%\n",
            "loss: 0.013071 [ 3000/4146] (30.2 batch/sec)\n",
            "train accuracy: 33.43%\n",
            "loss: 0.013142 [ 4000/4146] (30.6 batch/sec)\n",
            "train accuracy: 33.38%\n",
            "# of correct predictions: 77\n",
            "Avg Loss: 0.013884\n",
            "Avg Validation Accuracy: 7.52%\n",
            "\n",
            "Test accuracy: 7.52%\n",
            "Done!\n"
          ]
        }
      ],
      "source": [
        "NUM_TARGETS = len(char_ls)\n",
        "EMBED_DIM = 10\n",
        "WINDOW = 4\n",
        "h_sizes = [10, 5, 15, 10]\n",
        "\n",
        "batch_size = 256\n",
        "epochs = 20\n",
        "\n",
        "net = Net(h_sizes=h_sizes, n_features=WINDOW, num_words=NUM_TARGETS, embed_dim=EMBED_DIM, out_size=EMBED_DIM,dropout=None)     # define the network\n",
        "print(net)  # net architecture\n",
        "net = net.float().to(device)\n",
        "\n",
        "optimizer = torch.optim.Adam(net.parameters(), lr=0.001)\n",
        "loss_func = torch.nn.CrossEntropyLoss()  # this is for regression mean squared loss\n",
        "\n",
        "train_loss = []\n",
        "train_acc = []\n",
        "valid_loss = []\n",
        "valid_acc = []\n",
        "pred = []\n",
        "actual = []\n",
        "for t in range(epochs):\n",
        "    print(f\"Epoch {t + 1}\\n------------------------------- \\n\")\n",
        "    losses, acces = train(texts_valid_txt, batch_size, WINDOW, net, loss_func, optimizer, reg_option='L1')\n",
        "    valid_losses, valid_acces ,predicteds, actuals = test(window_test, label_test, batch_size, WINDOW, net, loss_func)\n",
        "    train_loss.append(losses)\n",
        "    train_acc.append(acces)\n",
        "    valid_loss.append(valid_losses)\n",
        "    valid_acc.append(valid_acces)\n",
        "    pred.append(predicteds)\n",
        "    actual.append(actuals)\n",
        "# test_loss, test_acc, predicted, actual = test(test_loader, model, loss_func)\n",
        "\n",
        "# Could add a condition that interrupts training when the loss doesn't change much\n",
        "print('Test accuracy: %.2f%%' % valid_acc[-1])\n",
        "print('Done!')\n"
      ]
    },
    {
      "cell_type": "code",
      "source": [
        "valid_loss"
      ],
      "metadata": {
        "colab": {
          "base_uri": "https://localhost:8080/"
        },
        "id": "t9MCkWXVdcuU",
        "outputId": "17ee2b4c-7532-479b-c798-0fdd38d778f0"
      },
      "execution_count": 35,
      "outputs": [
        {
          "output_type": "execute_result",
          "data": {
            "text/plain": [
              "[0.013799377949908376,\n",
              " 0.013859351864084601,\n",
              " 0.014039351372048259,\n",
              " 0.013986459700390697,\n",
              " 0.01394128892570734]"
            ]
          },
          "metadata": {},
          "execution_count": 35
        }
      ]
    },
    {
      "cell_type": "code",
      "execution_count": 13,
      "metadata": {
        "id": "EkRi5EJwvcl_"
      },
      "outputs": [],
      "source": [
        "import seaborn as sns\n",
        "import matplotlib.pyplot as plt\n",
        "import sklearn.metrics as skl\n",
        "from sklearn.metrics import confusion_matrix\n",
        "def confusion(actual, predicted):\n",
        "    cf_matrix = confusion_matrix(actual, predicted)\n",
        "    return sns.heatmap(cf_matrix, annot=True, cmap=\"Blues\")"
      ]
    },
    {
      "cell_type": "code",
      "execution_count": 14,
      "metadata": {
        "id": "YxJNveKu_0G1"
      },
      "outputs": [],
      "source": [
        "# confusion_matix=confusion(actual, pred)"
      ]
    },
    {
      "cell_type": "code",
      "source": [
        "# Loss Plot\n",
        "loss1, = plt.plot([i for i in range(len(train_loss))], torch.tensor(train_loss).mean(axis=1),\n",
        "                    label='train loss')\n",
        "loss2, = plt.plot([i for i in range(len(valid_loss))], valid_loss, color='orange',\n",
        "                    label='valid loss')\n",
        "plt.legend([loss1, loss2], ['train', 'valid'])\n",
        "plt.xlabel('# of epoch')\n",
        "plt.ylabel('loss')\n",
        "plt.show()"
      ],
      "metadata": {
        "colab": {
          "base_uri": "https://localhost:8080/",
          "height": 279
        },
        "id": "IjvxXbsKimDc",
        "outputId": "4c1ecda6-4434-47fa-f099-63d11b8baec5"
      },
      "execution_count": 15,
      "outputs": [
        {
          "output_type": "display_data",
          "data": {
            "image/png": "[encoded data removed]",
            "text/plain": [
              "<Figure size 432x288 with 1 Axes>"
            ]
          },
          "metadata": {
            "needs_background": "light"
          }
        }
      ]
    },
    {
      "cell_type": "code",
      "source": [
        "# Accurary Plot\n",
        "loss1, = plt.plot([i for i in range(len(train_acc))], torch.tensor(train_acc).mean(axis=1),\n",
        "                    label='train acc')\n",
        "loss2, = plt.plot([i for i in range(len(valid_acc))], valid_acc, color='orange',\n",
        "                    label='valid acc')\n",
        "plt.legend([loss1, loss2], ['train', 'valid'])\n",
        "plt.xlabel('# of epoch')\n",
        "plt.ylabel('accuracy')\n",
        "plt.show()\n",
        "plt.savefig('256_lr0.005_L1_noDrop.png')"
      ],
      "metadata": {
        "colab": {
          "base_uri": "https://localhost:8080/",
          "height": 296
        },
        "id": "sG-ZZx2NoFGf",
        "outputId": "24b3cb2f-0dd3-4474-b596-e681b2107e6a"
      },
      "execution_count": 16,
      "outputs": [
        {
          "output_type": "display_data",
          "data": {
            "image/png": "[encoded data removed]",
            "text/plain": [
              "<Figure size 432x288 with 1 Axes>"
            ]
          },
          "metadata": {
            "needs_background": "light"
          }
        },
        {
          "output_type": "display_data",
          "data": {
            "text/plain": [
              "<Figure size 432x288 with 0 Axes>"
            ]
          },
          "metadata": {}
        }
      ]
    },
    {
      "cell_type": "code",
      "source": [
        ""
      ],
      "metadata": {
        "id": "S70jUzkNe9BN"
      },
      "execution_count": null,
      "outputs": []
    }
  ],
  "metadata": {
    "colab": {
      "collapsed_sections": [],
      "name": "ML 349 - Project.ipynb",
      "provenance": []
    },
    "kernelspec": {
      "display_name": "Python 3",
      "name": "python3"
    },
    "language_info": {
      "name": "python"
    },
    "accelerator": "GPU"
  },
  "nbformat": 4,
  "nbformat_minor": 0
}